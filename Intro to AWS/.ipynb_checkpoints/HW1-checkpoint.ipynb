{
 "cells": [
  {
   "cell_type": "markdown",
   "metadata": {},
   "source": [
    "### Part 1\n",
    "##### a) Compute"
   ]
  },
  {
   "cell_type": "code",
   "execution_count": 15,
   "metadata": {},
   "outputs": [
    {
     "name": "stdout",
     "output_type": "stream",
     "text": [
      "4096\n",
      "4096\n",
      "4096\n",
      "4096\n"
     ]
    }
   ],
   "source": [
    "print(2**12)\n",
    "print((2**3)**4)\n",
    "print(4**6)\n",
    "print(8**4)"
   ]
  },
  {
   "cell_type": "code",
   "execution_count": 14,
   "metadata": {},
   "outputs": [
    {
     "name": "stdout",
     "output_type": "stream",
     "text": [
      "837 MOD 100 is = 37\n",
      "842 MOD 20 is = 2\n",
      "21 MOD 111 is = 21\n",
      "111 MOD 21 is = 6\n"
     ]
    }
   ],
   "source": [
    "print(\"837 MOD 100 is =\",837%100)\n",
    "print(\"842 MOD 20 is =\",842%20)\n",
    "print(\"21 MOD 111 is =\",21%111)\n",
    "print(\"111 MOD 21 is =\",111%21)"
   ]
  },
  {
   "cell_type": "markdown",
   "metadata": {},
   "source": [
    "##### b)\tGiven vectors V1 = (1, 2, 3) and V2 = (1, 2, 3) and a 3x3 matrix M = [(2, 1, 3), (1, 2, 2), (1, 0, 1)], compute:"
   ]
  },
  {
   "cell_type": "code",
   "execution_count": 16,
   "metadata": {},
   "outputs": [
    {
     "name": "stdout",
     "output_type": "stream",
     "text": [
      "[0 0 0]\n"
     ]
    }
   ],
   "source": [
    "import numpy as np\n",
    "V1 = (1, 2, 3)\n",
    "V2 = (1, 2, 3)\n",
    "#V2 – V1\n",
    "print(np.subtract(V2,V1))"
   ]
  },
  {
   "cell_type": "code",
   "execution_count": 19,
   "metadata": {},
   "outputs": [
    {
     "name": "stdout",
     "output_type": "stream",
     "text": [
      "[2 4 6]\n"
     ]
    }
   ],
   "source": [
    "#V1 + V1 \n",
    "print(np.add(V1,V1))"
   ]
  },
  {
   "cell_type": "code",
   "execution_count": 33,
   "metadata": {},
   "outputs": [
    {
     "name": "stdout",
     "output_type": "stream",
     "text": [
      "3.7416573867739413\n",
      "3.7416573867739413\n"
     ]
    }
   ],
   "source": [
    "#|V1| (Euclidean vector length, not the number of dimensions)\n",
    "#converting tuple to array-like\n",
    "#formula -> sum of power of vector in square root\n",
    "\n",
    "a=np.asarray(V1)**2\n",
    "print(np.sqrt(a.sum()))\n",
    "#using norm\n",
    "print(np.linalg.norm(V1))"
   ]
  },
  {
   "cell_type": "code",
   "execution_count": 34,
   "metadata": {},
   "outputs": [
    {
     "name": "stdout",
     "output_type": "stream",
     "text": [
      "3.7416573867739413\n",
      "3.7416573867739413\n"
     ]
    }
   ],
   "source": [
    "#|V2|\n",
    "#converting tuple to array-like\n",
    "a=np.asarray(V2)**2\n",
    "print(np.sqrt(a.sum()))\n",
    "#using norm\n",
    "print(np.linalg.norm(V2))"
   ]
  },
  {
   "cell_type": "code",
   "execution_count": 94,
   "metadata": {},
   "outputs": [
    {
     "data": {
      "text/plain": [
       "array([13, 11,  4])"
      ]
     },
     "execution_count": 94,
     "metadata": {},
     "output_type": "execute_result"
    }
   ],
   "source": [
    "M = [(2, 1, 3), (1, 2, 2), (1, 0, 1)]\n",
    "#M * V2 (matrix times vector, transpose it as necessary)\n",
    "np.dot(M,V2)"
   ]
  },
  {
   "cell_type": "code",
   "execution_count": 67,
   "metadata": {},
   "outputs": [
    {
     "data": {
      "text/plain": [
       "array([[ 8,  4, 11],\n",
       "       [ 6,  5,  9],\n",
       "       [ 3,  1,  4]])"
      ]
     },
     "execution_count": 67,
     "metadata": {},
     "output_type": "execute_result"
    }
   ],
   "source": [
    "np.linalg.matrix_power(M,2)"
   ]
  },
  {
   "cell_type": "code",
   "execution_count": 68,
   "metadata": {},
   "outputs": [
    {
     "data": {
      "text/plain": [
       "array([[31, 16, 43],\n",
       "       [26, 16, 37],\n",
       "       [11,  5, 15]])"
      ]
     },
     "execution_count": 68,
     "metadata": {},
     "output_type": "execute_result"
    }
   ],
   "source": [
    "np.linalg.matrix_power(M,3)"
   ]
  },
  {
   "cell_type": "markdown",
   "metadata": {},
   "source": [
    "##### c)\tSuppose we are flipping a coin with Head (H) and Tail (T) sides. The coin is not balanced with 0.6 probability of H coming up (and 0.4 of T). Compute the probabilities of getting:\n",
    "HTHT<br>\n",
    "THTT<br>\n",
    "Exactly 1 Head out of a sequence of 3 coin flips.<br>\n",
    "Exactly 1 Tail out of sequence of 3 coin flips.<br>"
   ]
  },
  {
   "cell_type": "code",
   "execution_count": 76,
   "metadata": {},
   "outputs": [
    {
     "name": "stdout",
     "output_type": "stream",
     "text": [
      "Probability of getting HTHT is:  0.0576\n",
      "Probability of getting THTT is:  0.0384\n"
     ]
    }
   ],
   "source": [
    "#HTHT\n",
    "prob_H = 0.6\n",
    "prob_T = 0.4\n",
    "print(\"Probability of getting HTHT is: \",prob_H*prob_T*prob_H*prob_T)\n",
    "print(\"Probability of getting THTT is: \",round((prob_T*prob_H*prob_T*prob_T),4))"
   ]
  },
  {
   "cell_type": "code",
   "execution_count": 80,
   "metadata": {},
   "outputs": [
    {
     "name": "stdout",
     "output_type": "stream",
     "text": [
      "Probability of getting exactly 1 Head in 3 flips:  0.288\n",
      "Probability of getting exactly 1 Tail in 3 flips:  0.432\n"
     ]
    }
   ],
   "source": [
    "#Exactly 1 Head out of a sequence of 3 coin flips.\n",
    "print(\"Probability of getting exactly 1 Head in 3 flips: \",3*prob_H*prob_T*prob_T)\n",
    "print(\"Probability of getting exactly 1 Tail in 3 flips: \",round((3*prob_H*prob_H*prob_T),3))"
   ]
  },
  {
   "cell_type": "code",
   "execution_count": null,
   "metadata": {},
   "outputs": [],
   "source": []
  }
 ],
 "metadata": {
  "kernelspec": {
   "display_name": "Python 3.7.6 64-bit",
   "language": "python",
   "name": "python37664bite1391625554e423f91b9c0caf37e2187"
  },
  "language_info": {
   "codemirror_mode": {
    "name": "ipython",
    "version": 3
   },
   "file_extension": ".py",
   "mimetype": "text/x-python",
   "name": "python",
   "nbconvert_exporter": "python",
   "pygments_lexer": "ipython3",
   "version": "3.7.6"
  }
 },
 "nbformat": 4,
 "nbformat_minor": 4
}
